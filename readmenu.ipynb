{
 "cells": [
  {
   "cell_type": "code",
   "execution_count": 18,
   "metadata": {},
   "outputs": [],
   "source": [
    "import pandas as pd\n",
    "import json"
   ]
  },
  {
   "cell_type": "code",
   "execution_count": 24,
   "metadata": {},
   "outputs": [],
   "source": [
    "menus = ['northmess.xlsx', 'kadamba.xlsx', 'southmess.xlsx', 'yuktahar.xlsx']\n",
    "dfs = [pd.read_excel('./excel_menu/' + menu) for menu in menus]    "
   ]
  },
  {
   "cell_type": "code",
   "execution_count": 25,
   "metadata": {},
   "outputs": [],
   "source": [
    "# Remove Column with all NaN values\n",
    "dfs = [df.dropna(axis=1, how='all') for df in dfs]\n",
    "# Remove Row with all NaN values\n",
    "dfs = [df.dropna(axis=0, how='all') for df in dfs]"
   ]
  },
  {
   "cell_type": "code",
   "execution_count": 26,
   "metadata": {},
   "outputs": [],
   "source": [
    "# Meal Replace all NaN with the value above it\n",
    "# dfs = [df.fillna(method='ffill') for df in dfs]\n",
    "# Do the above only on the first column 'Meal'\n",
    "for i in range(len(dfs)):\n",
    "    dfs[i]['Meal'] = dfs[i]['Meal'].fillna(method='ffill')\n",
    "\n",
    "# Replace all NaN with empty string\n",
    "dfs = [df.fillna('') for df in dfs]"
   ]
  },
  {
   "cell_type": "code",
   "execution_count": 27,
   "metadata": {},
   "outputs": [],
   "source": [
    "days = ['Monday', 'Tuesday', 'Wednesday', 'Thursday', 'Friday', 'Saturday', 'Sunday']\n",
    "meals = ['Breakfast', 'Lunch', 'Snack', 'Dinner']\n",
    "\n",
    "mess_menus = {}\n",
    "\n",
    "# for each menu\n",
    "for i in range(0, len(menus)):\n",
    "    df = dfs[i]\n",
    "    menu = menus[i]\n",
    "    mess_menu = {\n",
    "        'Days': {},\n",
    "        'lastUpdated': '01/08/2024',\n",
    "        'wef': '01/08/2024',\n",
    "        'additionalInfo': []\n",
    "        }\n",
    "\n",
    "    # for each row\n",
    "    for i in range(0, len(df)):\n",
    "        row = df.iloc[i]\n",
    "        for day in days:\n",
    "            if day not in mess_menu['Days']:\n",
    "                mess_menu['Days'][day] = {}\n",
    "            if row['Meal'] not in mess_menu['Days'][day]:\n",
    "                mess_menu['Days'][day][row['Meal']] = {}\n",
    "            mess_menu['Days'][day][row['Meal']][row['Items']] = row[day]\n",
    "\n",
    "    mess_menus[menu] = mess_menu\n"
   ]
  },
  {
   "cell_type": "code",
   "execution_count": 28,
   "metadata": {},
   "outputs": [],
   "source": [
    "# Save each to json\n",
    "for menu in mess_menus:\n",
    "    with open('src/menus/' + menu.split('.')[0] + '.json', 'w') as fp:\n",
    "        json.dump(mess_menus[menu], fp, indent=4)"
   ]
  },
  {
   "cell_type": "code",
   "execution_count": null,
   "metadata": {},
   "outputs": [],
   "source": []
  },
  {
   "cell_type": "code",
   "execution_count": null,
   "metadata": {},
   "outputs": [],
   "source": []
  }
 ],
 "metadata": {
  "kernelspec": {
   "display_name": "Python 3",
   "language": "python",
   "name": "python3"
  },
  "language_info": {
   "codemirror_mode": {
    "name": "ipython",
    "version": 3
   },
   "file_extension": ".py",
   "mimetype": "text/x-python",
   "name": "python",
   "nbconvert_exporter": "python",
   "pygments_lexer": "ipython3",
   "version": "3.11.1"
  },
  "orig_nbformat": 4
 },
 "nbformat": 4,
 "nbformat_minor": 2
}
